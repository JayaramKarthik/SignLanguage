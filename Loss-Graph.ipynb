{
  "nbformat": 4,
  "nbformat_minor": 0,
  "metadata": {
    "colab": {
      "name": "Untitled9.ipynb",
      "provenance": []
    },
    "kernelspec": {
      "name": "python3",
      "display_name": "Python 3"
    }
  },
  "cells": [
    {
      "cell_type": "code",
      "metadata": {
        "id": "8oh2rMd2Rlfj",
        "colab_type": "code",
        "colab": {}
      },
      "source": [
        "import matplotlib.pyplot as plt\n",
        "%matplotlib inline"
      ],
      "execution_count": 1,
      "outputs": []
    },
    {
      "cell_type": "code",
      "metadata": {
        "id": "jXAOuCrWRubv",
        "colab_type": "code",
        "colab": {}
      },
      "source": [
        "loss_arr = [1.8279791801195322, 0.31534702465424447, 0.14716957772144124, 0.08979810272180096, 0.07614613801218126, 0.0512156269468906, 0.04384287115920358, 0.03971303999625808]"
      ],
      "execution_count": 2,
      "outputs": []
    },
    {
      "cell_type": "code",
      "metadata": {
        "id": "MQJxd2e3RxC0",
        "colab_type": "code",
        "colab": {}
      },
      "source": [
        "def plot_losses(loss_arr):\n",
        "    plt.plot(loss_arr,'-x')\n",
        "    plt.xlabel('No. of epoch')\n",
        "    plt.ylabel('Loss')\n",
        "    plt.title('Loss vs Epochs')\n",
        "    plt.show()"
      ],
      "execution_count": 4,
      "outputs": []
    },
    {
      "cell_type": "code",
      "metadata": {
        "id": "tPL_IPgJR0q8",
        "colab_type": "code",
        "colab": {
          "base_uri": "https://localhost:8080/",
          "height": 295
        },
        "outputId": "a0149345-08eb-495c-eca9-c8e3f3701e21"
      },
      "source": [
        "plot_losses(loss_arr)"
      ],
      "execution_count": 5,
      "outputs": [
        {
          "output_type": "display_data",
          "data": {
            "image/png": "[encoded data removed]",
            "text/plain": [
              "<Figure size 432x288 with 1 Axes>"
            ]
          },
          "metadata": {
            "tags": [],
            "needs_background": "light"
          }
        }
      ]
    },
    {
      "cell_type": "code",
      "metadata": {
        "id": "iIBkNFJDR50U",
        "colab_type": "code",
        "colab": {}
      },
      "source": [
        ""
      ],
      "execution_count": null,
      "outputs": []
    }
  ]
}